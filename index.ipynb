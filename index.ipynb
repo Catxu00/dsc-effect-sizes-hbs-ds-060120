{
 "cells": [
  {
   "cell_type": "markdown",
   "metadata": {},
   "source": [
    "# Effect Size \n",
    "\n",
    "## Introduction\n",
    "\n",
    "When comparing results between groups, and results prove to be different, it is important to understand what the size of the difference is. You'll learn about that here!\n",
    "\n",
    "## Objectives\n",
    "\n",
    "* Compare and contrast p-value and effect size for identifying the significance of results\n",
    "* Interpret the results of a simple effect size and identify shortcomings of this approach\n",
    "* Calculate and interpret standardized and unstandardized effect sizes\n",
    "* Create a visualization to demonstrate different effect sizes between distributions of data\n",
    "\n",
    "## Introduction to Effect Size\n",
    "\n",
    "Effect size is used to quantify the *size of the difference* between two groups under observation. Effect sizes are easy to calculate, understand and apply to any measured outcome and are applicable to a multitude of study domains. It is highly valuable towards quantifying the *effectiveness of a particular intervention, relative to some comparison*. Measuring effect size allows scientists to go beyond the obvious and simplistic *'Does it work or not?'* to the far more sophisticated, *'How well does it work in a range of contexts?'*. \n",
    "\n",
    "[More on effect size](https://www.slideshare.net/gaetanlion/effect-size-presentation)\n",
    "\n",
    "\n",
    "\n",
    "### P-value vs. Effect Size\n",
    "\n",
    "Effect size measurement places its emphasis on the effect size only, unlike statistical significance which combines effect size and sample size, thus promoting a more scientific approach towards knowledge accumulation. Effect size is therefore routinely used in **Meta-Analysis** i.e. for combining and comparing estimates from different studies conducted on different samples. \n",
    "\n",
    "By increasing sample size, you can show there is a statistically significant difference between two means. However, **statistically significant does not necessarily imply “significant.\"**.\n",
    "\n",
    ">**P value** = probability sample means are the same.\n",
    "\n",
    ">(1 – P) or **Confidence Level** = probability sample means are different.\n",
    "\n",
    ">**Effect Size** = how different sample means are\n",
    "\n",
    "\n",
    "In light of this, it is possible to achieve highly significant p-values for effect sizes that have no practical significance. In contrast, study designs with low power can produce non-significant p-values for effect sizes of great practical importance.\n",
    "\n",
    "[Further details on p-value vs. effect size calculation](http://www.win-vector.com/blog/2017/09/remember-p-values-are-not-effect-sizes/)\n",
    "\n",
    "## Why do data scientists need to know about 'Effect Size'?\n",
    "\n",
    "Consider the experiment conducted by Dowson (2000) to investigate time of day effects on children learning: do children learn better in the morning or afternoon? A group of 38 children was included in the experiment. Half were randomly allocated to listen to a story and answer questions about it at 9 am, the other half heard exactly the same story and had to answer the same questions at 3 pm. Their comprehension was measured by the number of questions answered correctly out of 20.\n",
    "\n",
    "The average score was 15.2 for the morning group and 17.9 for the afternoon group, giving a difference of 2.7. \n",
    "**How big of a difference is this?**\n",
    "\n",
    "If the results were measured on a standard scale, such as a 4 point GPA scale, interpreting the difference would not be a problem. If the average difference was, say, half a grade or a full grade, most people would have a fair idea of the educational significance of the effect of reading a story at different times of the day. However, in many experiments, there is no familiar scale available on which to record the outcomes i.e. student comprehension in this case. The experimenter often has to invent a scale or use (or adapt) an already existing one - but generally, most people would be unfamiliar with the interpretation of this scale.\n",
    "\n",
    "In a data analytics domain, effect size calculation serves three primary goals:\n",
    "\n",
    "* Communicate the **practical significance** of results. An effect might be statistically significant, but does it matter in practical scenarios?\n",
    "\n",
    "* Effect size calculation and interpretation allows you to draw **Meta-Analytical** conclusions. This allows you to group together a number of existing studies, calculate the meta-analytic effect size and get the best estimate of the effect size of the population. \n",
    "\n",
    "* Perform **Power Analysis**, which helps determine the number of participants (sample size) that a study requires to achieve a certain probability of finding a true effect - if there is one. \n",
    "\n",
    "\n",
    "## Calculating effect size in Python \n",
    "\n",
    "### Using SciPy for measuring effect size\n",
    "\n",
    "SciPy (pronounced “Sigh Pie”) is open-source software for mathematics, science, and engineering. The SciPy package contains various toolboxes dedicated to common issues in scientific computing. Its different submodules correspond to different applications, such as interpolation, integration, optimization, image processing, statistics, special functions, etc. For an experiment, you can use `scipy.stats` package which contains statistical tools and probabilistic descriptions of random processes. Detailed documentation of SciPy is available [here](https://docs.scipy.org/doc/scipy/reference/index.html). "
   ]
  },
  {
   "cell_type": "code",
   "execution_count": 1,
   "metadata": {},
   "outputs": [],
   "source": [
    "# Import necessary modules \n",
    "from __future__ import print_function, division\n",
    "import numpy as np\n",
    "\n",
    "# Import SciPy stats and matplotlib for calculating and visualising effect size\n",
    "import scipy.stats\n",
    "import matplotlib.pyplot as plt\n",
    "\n",
    "%matplotlib inline\n",
    "\n",
    "# seed the random number generator so you get the same results\n",
    "np.random.seed(10)"
   ]
  },
  {
   "cell_type": "markdown",
   "metadata": {},
   "source": [
    "### Example: \n",
    "To explore statistics that quantify effect size, let's first look at the difference in height between men and women in the USA, based on the mean and standard deviation for male and female heights as given in (BRFSS) Behavioral Risk Factor Surveillance System.\n",
    "\n",
    ">**Males Height**  (Mean = 178 , Standard Deviation = 7.7)\n",
    "\n",
    ">**Female Height** (Mean = 163 , Standard Deviation = 7.3)\n",
    "\n",
    "You can use `scipy.stats.norm()` to represent the height distributions by passing mean and standard deviation values as arguments for creating normal distribution. "
   ]
  },
  {
   "cell_type": "code",
   "execution_count": 2,
   "metadata": {},
   "outputs": [],
   "source": [
    "#Mean height and sd for males\n",
    "male_mean = 178\n",
    "male_sd = 7.7\n",
    "\n",
    "# Generate a normal distribution for male heights \n",
    "male_height = scipy.stats.norm(male_mean, male_sd)"
   ]
  },
  {
   "cell_type": "markdown",
   "metadata": {},
   "source": [
    " The result `male_height` is a SciPy `rv` object which represents a **normal continuous random variable**. "
   ]
  },
  {
   "cell_type": "code",
   "execution_count": 3,
   "metadata": {},
   "outputs": [
    {
     "data": {
      "text/plain": [
       "<scipy.stats._distn_infrastructure.rv_frozen at 0x7f98308a31d0>"
      ]
     },
     "execution_count": 3,
     "metadata": {},
     "output_type": "execute_result"
    }
   ],
   "source": [
    "male_height"
   ]
  },
  {
   "cell_type": "markdown",
   "metadata": {},
   "source": [
    "Use the mean and standard deviation for female height and repeat calculations shown above to calculate `female_height` as an `rv` object."
   ]
  },
  {
   "cell_type": "code",
   "execution_count": 4,
   "metadata": {},
   "outputs": [],
   "source": [
    "female_mean = 163\n",
    "female_sd = 7.3\n",
    "female_height = scipy.stats.norm(female_mean, female_sd)"
   ]
  },
  {
   "cell_type": "markdown",
   "metadata": {},
   "source": [
    "##  Evaluate Probability Density Function (PDF)\n",
    "\n",
    "A continuous random variable, as calculated above, takes on an uncountably infinite number of possible values. \n",
    "\n",
    "For a **discrete** random variable, X, that takes on a finite or infinite number of possible values, we determine P(X = x) for all of the possible values of X and call it the probability mass function (PMF). \n",
    "\n",
    "For **continuous** random variables, as in the case of heights, the probability that X takes on any particular value x is 0. That is, finding P(X = x) for a continuous random variable X is not going to work. Instead, you'll need to find the probability that X falls in some interval (a, b) i.e. you'll need to find **P(a < X < b)** using a **probability density function(PDF)**. \n",
    "\n",
    "\n",
    "The following function evaluates the normal (Gaussian) probability density function within 4 standard deviations of the mean. The function takes an rv object and returns a pair of NumPy arrays."
   ]
  },
  {
   "cell_type": "code",
   "execution_count": 5,
   "metadata": {},
   "outputs": [],
   "source": [
    "def evaluate_PDF(rv, x=4):\n",
    "    '''Input: a random variable object, standard deviation\n",
    "    output : x and y values for the normal distribution\n",
    "    '''\n",
    "    \n",
    "    # Identify the mean and standard deviation of random variable \n",
    "    mean = rv.mean()\n",
    "    std = rv.std()\n",
    "\n",
    "    # Use numpy to calculate evenly spaced numbers over the specified interval (4 sd) and generate 100 samples.\n",
    "    xs = np.linspace(mean - x*std, mean + x*std, 100)\n",
    "    \n",
    "    # Calculate the peak of normal distribution i.e. probability density. \n",
    "    ys = rv.pdf(xs)\n",
    "\n",
    "    return xs, ys # Return calculated values"
   ]
  },
  {
   "cell_type": "markdown",
   "metadata": {},
   "source": [
    "Let's use the function above to calculate `xs` and `ys` for male and female heights (pass the `rv` object as an argument) and plot the resulting `xs` and `ys` for both distributions to visualize the effect size.**  "
   ]
  },
  {
   "cell_type": "code",
   "execution_count": 6,
   "metadata": {},
   "outputs": [
    {
     "data": {
      "text/plain": [
       "Text(0.5, 0, 'height (cm)')"
      ]
     },
     "execution_count": 6,
     "metadata": {},
     "output_type": "execute_result"
    },
    {
     "data": {
      "image/png": "[encoded data removed]",
      "text/plain": [
       "<Figure size 432x288 with 1 Axes>"
      ]
     },
     "metadata": {
      "needs_background": "light"
     },
     "output_type": "display_data"
    }
   ],
   "source": [
    "# Male height\n",
    "xs, ys = evaluate_PDF(male_height)\n",
    "plt.plot(xs, ys, label='male', linewidth=4, color='#beaed4') \n",
    "\n",
    "#Female height \n",
    "xs, ys = evaluate_PDF(female_height)\n",
    "plt.plot(xs, ys, label='female', linewidth=4, color='#fdc086')\n",
    "\n",
    "plt.xlabel('height (cm)')\n"
   ]
  },
  {
   "cell_type": "markdown",
   "metadata": {},
   "source": [
    "Let's assume for the sake of simplicity that these are the true distributions for the population. As you studied earlier, in real life one would never observe the true population distribution.  You generally have to work with a random sample from the population. Let's try to work out how different these two groups are with respect to height by calculating un-standardized and standardized effect sizes.\n",
    "\n",
    "\n",
    "\n",
    "## Un-standardized or Simple Effect Size Calculation\n",
    "\n",
    "An unstandardized effect size simply tries to find the difference between two groups by calculating the difference between distribution means. Here is how you can do it in Python. \n",
    "\n",
    "You can use the `rvs` method from `scipy.stats` to generate a random sample of size 1000 from the population distributions.  Note that these are totally random and representative samples, with no measurement error.\n",
    "\n",
    "\n",
    "Visit [this link](https://docs.scipy.org/doc/scipy-1.0.0/reference/tutorial/stats.html) for more details on `sciPy.stats`. "
   ]
  },
  {
   "cell_type": "code",
   "execution_count": 7,
   "metadata": {},
   "outputs": [],
   "source": [
    "male_sample = male_height.rvs(1000)"
   ]
  },
  {
   "cell_type": "markdown",
   "metadata": {},
   "source": [
    "The resulting samples are NumPy arrays, so we can now easily calculate the mean and standard deviation of random samples. "
   ]
  },
  {
   "cell_type": "code",
   "execution_count": 8,
   "metadata": {},
   "outputs": [
    {
     "data": {
      "text/plain": [
       "(177.88791390576085, 7.222274730410271)"
      ]
     },
     "execution_count": 8,
     "metadata": {},
     "output_type": "execute_result"
    }
   ],
   "source": [
    "mean1, std1 = male_sample.mean(), male_sample.std()\n",
    "mean1, std1\n",
    "# (177.88791390576085, 7.222274730410271)"
   ]
  },
  {
   "cell_type": "markdown",
   "metadata": {},
   "source": [
    "The sample mean is close to the population mean, but not exactly the same, as expected.\n",
    "\n",
    "Now, perform above calculation for female heights to calculate mean and sd of random samples from `female_height` `rv` object**"
   ]
  },
  {
   "cell_type": "code",
   "execution_count": 9,
   "metadata": {},
   "outputs": [
    {
     "data": {
      "text/plain": [
       "(162.91903182040372, 7.261850929417819)"
      ]
     },
     "execution_count": 9,
     "metadata": {},
     "output_type": "execute_result"
    }
   ],
   "source": [
    "female_sample = female_height.rvs(1000)\n",
    "mean2, std2 = female_sample.mean(), female_sample.std()\n",
    "mean2, std2\n",
    "# (162.91903182040372, 7.261850929417819)"
   ]
  },
  {
   "cell_type": "code",
   "execution_count": 10,
   "metadata": {},
   "outputs": [
    {
     "data": {
      "text/plain": [
       "array([174.04674125, 161.96096481, 161.98223428, 171.58120506,\n",
       "       171.6416598 , 167.988873  , 154.12967073, 166.88039705,\n",
       "       164.79163158, 164.83951097, 175.73455794, 156.00586877,\n",
       "       176.32008338, 150.73639871, 154.86481487, 163.4318025 ,\n",
       "       160.69538069, 166.43415451, 168.66766455, 155.22824769,\n",
       "       161.66695475, 164.54356937, 153.27110561, 161.48473955,\n",
       "       162.94284673, 165.66644356, 160.07979573, 171.26743606,\n",
       "       162.28010106, 161.45953799, 151.46426461, 156.21345117,\n",
       "       158.63530365, 152.53931416, 159.59120245, 156.47274318,\n",
       "       138.78101592, 169.53554096, 171.7572946 , 165.78571359,\n",
       "       163.65826191, 162.72662508, 145.96782958, 162.51126804,\n",
       "       152.39230355, 155.90820277, 152.79760554, 163.62701223,\n",
       "       182.35003613, 159.46008572, 173.00172435, 166.3193185 ,\n",
       "       174.52343892, 171.73211451, 149.57402558, 171.09848361,\n",
       "       167.00169585, 154.59244038, 165.99092239, 152.57569117,\n",
       "       164.43002125, 171.45487842, 164.7472764 , 154.18789769,\n",
       "       160.82802956, 165.54146175, 168.97349387, 164.46365508,\n",
       "       160.33156115, 158.95460265, 166.51644533, 174.93186952,\n",
       "       168.12504787, 158.30415416, 172.06012023, 162.28888278,\n",
       "       173.91012455, 162.45527646, 170.98274439, 160.73342673,\n",
       "       161.94168603, 173.5227739 , 153.7022448 , 164.75351421,\n",
       "       158.8281215 , 165.12008247, 163.89017996, 179.91816665,\n",
       "       165.57407459, 154.1443681 , 160.04103717, 168.23255515,\n",
       "       160.74507084, 168.23832128, 173.02562654, 170.11691638,\n",
       "       154.92670879, 158.83031388, 163.63417486, 150.00748315,\n",
       "       168.22414528, 161.08048024, 161.72894734, 165.58340341,\n",
       "       158.71298137, 174.0372631 , 168.51085308, 153.41542042,\n",
       "       163.39987503, 159.09590893, 168.88665425, 168.47170146,\n",
       "       173.06916835, 159.55735932, 160.99025879, 164.74336587,\n",
       "       165.55883026, 158.27940916, 168.21831552, 162.46616677,\n",
       "       145.02577517, 145.39800953, 155.72958718, 174.15359828,\n",
       "       169.65767035, 165.44792329, 160.03892587, 162.19055875,\n",
       "       167.08917075, 160.245578  , 172.45152174, 174.0184226 ,\n",
       "       171.05431818, 158.67826333, 162.02325692, 162.56367258,\n",
       "       165.13935534, 152.70093058, 172.15608151, 156.50098097,\n",
       "       164.24839887, 163.42891428, 161.48408489, 171.49417631,\n",
       "       165.69527688, 169.60484963, 168.56488014, 158.0246304 ,\n",
       "       173.05811126, 171.64724997, 155.8309381 , 161.17163602,\n",
       "       160.66640195, 165.3534653 , 166.41575756, 179.96555584,\n",
       "       156.98514517, 160.79452776, 172.02231444, 171.69206746,\n",
       "       157.52575898, 168.95112077, 160.35096564, 167.69556742,\n",
       "       167.7892674 , 175.68802791, 151.883226  , 157.31765372,\n",
       "       167.23132131, 155.25955065, 158.99340551, 169.87583044,\n",
       "       156.83629993, 158.75427863, 162.97100353, 152.19300743,\n",
       "       178.80641617, 154.79543152, 148.79773057, 162.1020193 ,\n",
       "       159.52779052, 168.78298519, 170.65938244, 152.05611315,\n",
       "       155.14380594, 155.5520812 , 179.19337826, 162.2253391 ,\n",
       "       174.4604708 , 163.57326035, 163.28409423, 152.54907113,\n",
       "       162.825745  , 170.55076013, 163.97030042, 166.06739239,\n",
       "       165.55823395, 180.87043507, 157.27844008, 168.58630535,\n",
       "       168.15350832, 168.27780388, 175.83685235, 158.96230181,\n",
       "       158.57598774, 164.39045009, 167.67712519, 153.82241976,\n",
       "       162.56417101, 159.40209996, 173.69824264, 174.62863932,\n",
       "       163.36348427, 170.45316807, 148.865716  , 159.87278103,\n",
       "       152.99289507, 161.48358842, 169.38732792, 158.78811668,\n",
       "       163.03078209, 177.37402262, 166.73670693, 183.39011006,\n",
       "       162.43343462, 149.52911753, 166.63933519, 161.30492812,\n",
       "       152.57801123, 156.5738996 , 150.03516778, 178.02724972,\n",
       "       151.47145794, 176.97293532, 160.45121869, 163.77483457,\n",
       "       165.417036  , 170.38691264, 150.46724625, 164.22955337,\n",
       "       148.03784315, 165.99076128, 158.51741192, 160.84862431,\n",
       "       172.06406098, 149.71002788, 162.53642395, 166.50814248,\n",
       "       164.4952779 , 177.47766358, 166.84738711, 155.09688417,\n",
       "       159.89807877, 161.71197396, 170.3495144 , 169.04888826,\n",
       "       165.42061601, 166.40246166, 165.521243  , 165.98523426,\n",
       "       165.4926091 , 177.31177155, 170.6538767 , 169.83344432,\n",
       "       168.13387882, 168.81227907, 152.58502545, 166.74346042,\n",
       "       156.86463908, 176.34155452, 164.69941333, 165.18398038,\n",
       "       174.83401338, 156.89500312, 152.96771996, 166.09391927,\n",
       "       166.66756239, 167.46338652, 160.96348722, 165.45989463,\n",
       "       159.10834497, 152.7684854 , 168.27428213, 163.85320275,\n",
       "       153.19804113, 152.2853202 , 154.68492363, 165.69659036,\n",
       "       156.23484275, 165.14250494, 152.95678469, 161.12670344,\n",
       "       166.00706192, 156.69143633, 157.93266404, 153.21155918,\n",
       "       170.59183909, 159.4183315 , 163.22197661, 150.01451793,\n",
       "       158.60021842, 163.38154545, 168.15787817, 163.56237456,\n",
       "       150.07652306, 162.63397336, 162.88230293, 165.86324313,\n",
       "       166.66194671, 156.23025668, 162.47658718, 167.61242344,\n",
       "       168.62405848, 156.22627524, 157.46130773, 164.79091417,\n",
       "       160.32006295, 160.9006335 , 169.18072694, 164.09102511,\n",
       "       167.25513218, 167.48141943, 155.17550998, 168.39027155,\n",
       "       162.66095249, 151.2506473 , 164.73043303, 164.72604316,\n",
       "       165.62256506, 159.22932964, 170.19069542, 157.31141625,\n",
       "       160.11004567, 170.90724941, 166.60104951, 164.69547609,\n",
       "       175.61723667, 161.29367903, 149.51630433, 164.59062581,\n",
       "       160.07439384, 160.48869305, 156.43276061, 155.48611367,\n",
       "       158.36775531, 165.86061073, 154.41658584, 166.59973569,\n",
       "       159.02912385, 164.11585583, 173.98696035, 159.53943312,\n",
       "       164.52972249, 162.01100733, 170.23746559, 152.00626068,\n",
       "       165.88532153, 159.39322952, 153.12801691, 156.21232648,\n",
       "       159.08315385, 164.17719955, 164.9927435 , 168.8875055 ,\n",
       "       156.55873888, 162.41395176, 163.98418695, 168.43458298,\n",
       "       155.63461559, 161.92989168, 152.09219666, 160.83994503,\n",
       "       154.81616315, 156.8066468 , 164.96992964, 161.85340907,\n",
       "       157.68950968, 172.29088675, 169.76058064, 162.64918086,\n",
       "       157.99019964, 167.22639702, 159.60335964, 161.74865346,\n",
       "       166.73459798, 161.29524797, 146.60743125, 163.8668198 ,\n",
       "       171.62691406, 165.41344531, 158.31654503, 174.68454014,\n",
       "       153.89023464, 174.38552142, 160.03564353, 152.78546429,\n",
       "       167.40456073, 168.59880304, 165.64118876, 167.40395097,\n",
       "       171.04863223, 165.99985044, 171.75660065, 166.49443155,\n",
       "       168.73049179, 159.84433154, 159.47594385, 155.83559399,\n",
       "       168.29125747, 158.8902018 , 160.70183378, 161.06449427,\n",
       "       161.55835494, 145.64966822, 154.41301701, 166.14375225,\n",
       "       150.11116926, 171.86302892, 166.32712177, 159.10783657,\n",
       "       162.12080443, 162.13089672, 168.10489049, 165.32994277,\n",
       "       171.31062429, 174.5109721 , 171.40699904, 161.4267085 ,\n",
       "       166.73282542, 163.26667635, 167.41399791, 144.74042966,\n",
       "       151.35096921, 180.93104711, 166.47789506, 174.25319367,\n",
       "       171.09081268, 158.52640161, 158.81907886, 165.00585832,\n",
       "       163.5196532 , 155.0069673 , 150.52513888, 167.15476758,\n",
       "       169.85227708, 151.71138945, 162.80504779, 179.10790162,\n",
       "       158.32264952, 163.61857155, 164.0773417 , 173.68372049,\n",
       "       159.0139386 , 155.58742737, 175.70029977, 166.99547759,\n",
       "       154.38790507, 159.05819351, 156.85358913, 169.51326116,\n",
       "       154.31429258, 169.81369211, 172.10018545, 166.83097035,\n",
       "       156.57873365, 161.80641607, 175.24635401, 158.7399522 ,\n",
       "       165.10359936, 174.44771177, 159.4082373 , 169.54516927,\n",
       "       180.2145472 , 170.59210647, 163.78818317, 164.40003534,\n",
       "       157.19888761, 167.77038624, 162.52442523, 150.84004586,\n",
       "       165.6298632 , 155.73298837, 166.08431978, 179.22316882,\n",
       "       156.724412  , 164.98246382, 166.14294403, 160.05310432,\n",
       "       170.81977159, 169.60099604, 161.64443648, 159.86506439,\n",
       "       155.89833673, 173.44258174, 162.48467603, 168.86081173,\n",
       "       160.79809442, 158.92732119, 154.019964  , 160.33614417,\n",
       "       170.87676198, 161.0715176 , 168.20580067, 177.5286438 ,\n",
       "       170.01792368, 161.88419322, 181.21278028, 159.62413309,\n",
       "       156.62449742, 157.18133824, 169.2286146 , 157.66651078,\n",
       "       165.79729589, 178.37094451, 166.34924286, 159.75475565,\n",
       "       160.67029596, 153.45627879, 170.49928954, 176.10312218,\n",
       "       172.42696179, 158.84963963, 162.60233365, 153.12602355,\n",
       "       168.34592639, 155.37936673, 165.3819989 , 164.08650128,\n",
       "       166.20422821, 159.95185399, 163.42691353, 159.76243102,\n",
       "       149.95140012, 155.38539622, 160.61140857, 173.61474472,\n",
       "       178.8781305 , 166.71295409, 169.38998388, 159.84917954,\n",
       "       156.04105718, 166.81471678, 156.96967653, 160.33915053,\n",
       "       170.79142222, 164.71813869, 163.17098949, 164.59161269,\n",
       "       154.15444825, 163.01948258, 165.25491188, 159.74765208,\n",
       "       162.37498323, 161.54106356, 165.82299096, 170.68298094,\n",
       "       169.19528497, 163.44499793, 140.27769191, 161.4158074 ,\n",
       "       173.30874708, 166.38442403, 153.41596956, 164.78026664,\n",
       "       173.50227374, 155.67368557, 158.15313735, 171.77503168,\n",
       "       161.43357724, 161.57804213, 171.43523967, 168.10645695,\n",
       "       177.69870798, 162.39703201, 176.93113468, 162.41216155,\n",
       "       156.63892977, 155.93488731, 151.57670151, 154.5537138 ,\n",
       "       152.83888595, 166.54344348, 159.39018768, 178.01421609,\n",
       "       154.67237393, 160.18078001, 170.45248323, 165.56819423,\n",
       "       170.9018193 , 157.83091672, 168.27948395, 154.89495081,\n",
       "       172.40273617, 155.67079696, 149.61703843, 165.07538568,\n",
       "       163.23528066, 153.72670408, 160.32260302, 152.55102743,\n",
       "       172.50427378, 167.33883409, 164.83607301, 172.18047483,\n",
       "       158.14181934, 155.87852599, 152.15129407, 159.69922397,\n",
       "       161.95678957, 148.05344079, 171.66402793, 154.8884821 ,\n",
       "       153.99313481, 162.50965093, 161.73610654, 171.61458952,\n",
       "       167.72106948, 172.56118273, 156.54723242, 170.38677321,\n",
       "       165.57830812, 164.22881019, 166.42427402, 149.97623335,\n",
       "       165.07375028, 153.37787898, 166.74527374, 167.69469772,\n",
       "       163.48905344, 167.64139648, 168.1215975 , 177.20841262,\n",
       "       161.86375726, 156.08322711, 160.89720305, 156.81026333,\n",
       "       156.95628783, 174.92289644, 162.13156727, 168.36521785,\n",
       "       156.83342868, 157.11905029, 157.92654025, 160.6845694 ,\n",
       "       169.12017333, 166.00938207, 160.17399845, 166.80555951,\n",
       "       151.62588661, 160.41189653, 163.36741356, 157.99900163,\n",
       "       159.13394427, 163.48402704, 159.7960386 , 164.62965695,\n",
       "       168.64745565, 157.6013073 , 156.07245739, 162.26030781,\n",
       "       156.09388732, 155.33095375, 155.65391533, 145.61264971,\n",
       "       167.85575673, 159.39947172, 173.91382951, 173.03082138,\n",
       "       162.23829034, 178.33278171, 170.62272246, 148.82268895,\n",
       "       165.51169727, 158.92912257, 169.28905626, 164.65675304,\n",
       "       160.72203655, 166.05464569, 167.24835881, 160.85603379,\n",
       "       144.72323353, 159.84936494, 155.60740646, 171.47604971,\n",
       "       148.6467053 , 149.35794167, 159.73845022, 164.34454646,\n",
       "       168.10814981, 158.50998123, 147.42699213, 168.45122131,\n",
       "       158.36625031, 161.29577774, 171.67340161, 162.58283992,\n",
       "       151.79882686, 170.73845906, 149.72731224, 162.01067603,\n",
       "       168.34414215, 174.72985289, 164.09026603, 158.67223208,\n",
       "       163.6132668 , 158.58970278, 167.741864  , 159.93327261,\n",
       "       168.45056678, 158.11263938, 162.40611994, 169.15495781,\n",
       "       170.05997223, 168.95965327, 173.60757566, 155.86643573,\n",
       "       164.13402357, 171.21128137, 163.92617562, 159.9124275 ,\n",
       "       162.86203504, 163.47069098, 158.80940527, 156.98845985,\n",
       "       160.16599408, 165.87306954, 156.36415523, 158.49635706,\n",
       "       164.5488644 , 157.56649069, 155.83311647, 151.29483006,\n",
       "       165.56311816, 178.9026382 , 150.20140176, 165.33661164,\n",
       "       149.21758784, 166.85302949, 166.04537897, 163.82393337,\n",
       "       163.38488135, 174.15924408, 168.87874058, 171.90180132,\n",
       "       163.99002384, 161.42799081, 153.52020695, 160.63909446,\n",
       "       163.85988835, 169.85264371, 158.20298686, 167.3800082 ,\n",
       "       155.16127585, 157.59428898, 167.77178077, 157.8949229 ,\n",
       "       155.42692864, 169.16031356, 176.21557936, 152.84473599,\n",
       "       161.8249515 , 160.71145908, 161.84040289, 151.83266882,\n",
       "       163.37636236, 154.92087196, 170.43577445, 150.83438771,\n",
       "       158.37205116, 156.22494801, 166.07440882, 179.98809161,\n",
       "       160.64854577, 173.97169569, 155.78677023, 160.85395468,\n",
       "       165.04428556, 159.42312716, 148.14274666, 160.88003446,\n",
       "       169.97499469, 155.44244099, 175.95898675, 165.84150509,\n",
       "       158.24156357, 162.7866791 , 164.85832223, 153.96460623,\n",
       "       161.96862574, 162.99057621, 170.5810467 , 146.59200536,\n",
       "       157.88200218, 157.81250039, 167.03979394, 169.04339703,\n",
       "       159.62081723, 164.74018063, 163.0902148 , 159.01188094,\n",
       "       149.3543423 , 157.96132213, 167.09034488, 166.82432423,\n",
       "       161.73901724, 146.49260786, 171.82275245, 164.93062506,\n",
       "       156.14912619, 157.81059859, 158.83779434, 166.56945126,\n",
       "       151.48167025, 165.16830382, 164.29761567, 166.69457183,\n",
       "       168.55500596, 150.02201075, 180.50404178, 159.51009378,\n",
       "       155.46592601, 171.92288044, 162.93730421, 161.52921487,\n",
       "       168.88944554, 175.53917428, 161.10253126, 150.2569575 ,\n",
       "       169.76236048, 150.00506629, 155.85431171, 165.01774292,\n",
       "       149.60056335, 164.47415172, 149.70865734, 170.22831583,\n",
       "       159.6136221 , 162.16861943, 157.44211912, 163.43153386,\n",
       "       161.83864618, 160.22632746, 150.89236687, 165.10474433,\n",
       "       148.20239665, 157.27887447, 159.7492924 , 145.26155396,\n",
       "       167.92121848, 161.49241687, 152.86422535, 169.85466459,\n",
       "       160.99603245, 155.36356716, 158.35817255, 174.48953395,\n",
       "       168.95817839, 176.32838239, 150.03071198, 149.53394079,\n",
       "       165.55937205, 169.6710909 , 163.76462688, 163.48489387,\n",
       "       169.5782839 , 162.21752702, 153.31503027, 163.95176225,\n",
       "       161.34255511, 158.72380176, 173.25430829, 160.47499395,\n",
       "       164.90601554, 153.0036048 , 167.51687188, 160.04579402,\n",
       "       149.3795017 , 171.54746339, 166.21294186, 156.12026087,\n",
       "       160.80705602, 154.7932753 , 168.53608958, 152.79743908,\n",
       "       169.93180673, 168.64715772, 162.35925895, 176.99853334,\n",
       "       157.9231896 , 168.92399148, 158.3791372 , 164.58479255,\n",
       "       165.13700986, 161.67125442, 160.70305086, 163.42819618,\n",
       "       156.03342366, 168.80232652, 168.17712898, 172.40282119,\n",
       "       166.5821069 , 165.28632319, 166.14319351, 153.18813346,\n",
       "       158.41114745, 156.80887453, 146.26387408, 159.99607229,\n",
       "       166.26855592, 163.08480138, 160.02667739, 150.35399996,\n",
       "       165.26012926, 160.07520306, 165.64526097, 147.99906814,\n",
       "       170.30466039, 167.92831753, 160.06766201, 159.44607738,\n",
       "       171.56835708, 164.63184118, 164.18195248, 154.0241966 ,\n",
       "       174.83088995, 175.22265572, 162.92156371, 172.84475623,\n",
       "       154.61500162, 163.14611285, 167.38044838, 158.30521561,\n",
       "       162.56715791, 166.4916998 , 164.64111133, 166.77711662,\n",
       "       163.04388732, 157.91556007, 146.55328542, 164.4934475 ,\n",
       "       160.14838582, 173.38141963, 165.70859155, 170.31174305,\n",
       "       158.4772431 , 164.0569569 , 161.35658912, 171.2649543 ,\n",
       "       168.95034523, 172.61470225, 173.11073269, 164.19535845,\n",
       "       160.32300089, 155.73499846, 160.64981811, 163.31683916,\n",
       "       161.19446419, 179.17727045, 162.45147241, 162.27212521,\n",
       "       164.4376259 , 164.14299715, 169.1622631 , 170.41012688,\n",
       "       169.10815769, 161.76492901, 157.74771485, 163.09974949,\n",
       "       169.89150165, 154.54703815, 166.78456357, 158.11420778,\n",
       "       162.3487231 , 161.53736985, 161.462117  , 167.65499724,\n",
       "       173.61320458, 160.03416201, 163.90366725, 170.17356117,\n",
       "       157.62426328, 165.70806284, 172.34173223, 159.96274776,\n",
       "       153.8237805 , 149.71385889, 162.00399311, 147.44787837,\n",
       "       158.76289798, 157.79460308, 166.8999265 , 165.14404738,\n",
       "       151.28040621, 153.48159937, 166.78293045, 167.62267211,\n",
       "       171.41416454, 165.71730371, 167.46939722, 175.485008  ])"
      ]
     },
     "execution_count": 10,
     "metadata": {},
     "output_type": "execute_result"
    }
   ],
   "source": [
    "female_sample"
   ]
  },
  {
   "cell_type": "markdown",
   "metadata": {},
   "source": [
    "And the results are similar for the female sample.\n",
    "\n",
    "Now, there are many ways to describe the magnitude of the difference between these distributions. An obvious one is the difference in the means. \n",
    "\n",
    "Now, calculate the difference in means of both distributions identified above.**"
   ]
  },
  {
   "cell_type": "code",
   "execution_count": 10,
   "metadata": {},
   "outputs": [
    {
     "data": {
      "text/plain": [
       "14.968882085357137"
      ]
     },
     "execution_count": 10,
     "metadata": {},
     "output_type": "execute_result"
    }
   ],
   "source": [
    "difference_in_means = male_sample.mean() - female_sample.mean()\n",
    "difference_in_means # in cm\n",
    "# 14.968882085357137"
   ]
  },
  {
   "cell_type": "markdown",
   "metadata": {},
   "source": [
    "This shows that, on average, men are around 15 centimeters taller. For some applications, that would be a good way to describe the difference, but there are caveats:\n",
    "\n",
    "* Without knowing more about the distributions (like the standard deviations or _spread_ of each distribution), it's hard to interpret whether a difference like 15 cm is a **big difference** or not.\n",
    "\n",
    "* The magnitude of the difference depends on the units of measure, making it hard to compare across different studies that may be conducted with different units of measurement.\n",
    "\n",
    "There are a number of ways to quantify the difference between distributions.  A simple option is to express the difference as a percentage of the mean.\n",
    "\n",
    "Let's figure out the relative difference in the means of two populations, scaled by the mean of male heights and expressed as a percentage. "
   ]
  },
  {
   "cell_type": "code",
   "execution_count": 11,
   "metadata": {},
   "outputs": [
    {
     "data": {
      "text/plain": [
       "8.414783082614122"
      ]
     },
     "execution_count": 11,
     "metadata": {},
     "output_type": "execute_result"
    }
   ],
   "source": [
    "relative_difference = difference_in_means / male_sample.mean()\n",
    "relative_difference * 100   # percent\n",
    "\n",
    "#  8.414783082614122"
   ]
  },
  {
   "cell_type": "markdown",
   "metadata": {},
   "source": [
    "But a problem with relative differences is that you have to choose which mean to express them relative to."
   ]
  },
  {
   "cell_type": "code",
   "execution_count": 12,
   "metadata": {},
   "outputs": [
    {
     "data": {
      "text/plain": [
       "9.18792722869745"
      ]
     },
     "execution_count": 12,
     "metadata": {},
     "output_type": "execute_result"
    }
   ],
   "source": [
    "relative_difference = difference_in_means / female_sample.mean()\n",
    "relative_difference * 100    # percent\n",
    "\n",
    "# 9.18792722869745"
   ]
  },
  {
   "cell_type": "markdown",
   "metadata": {},
   "source": [
    "## Overlap threshold\n",
    "\n",
    "As you can see above, there is still a difference in results when you express the relative difference, depending on whether we choose to represent the ratio relative to male height or female height. Perhaps you can look for the amount of overlap between the two distributions.  To define overlap, you choose a threshold between the two means.  The simple threshold is the midpoint between the means:"
   ]
  },
  {
   "cell_type": "code",
   "execution_count": 13,
   "metadata": {},
   "outputs": [
    {
     "data": {
      "text/plain": [
       "170.4034728630823"
      ]
     },
     "execution_count": 13,
     "metadata": {},
     "output_type": "execute_result"
    }
   ],
   "source": [
    "simple_thresh = (mean1 + mean2) / 2\n",
    "simple_thresh"
   ]
  },
  {
   "cell_type": "markdown",
   "metadata": {},
   "source": [
    "A better, but slightly more complicated threshold is the place where the PDFs cross."
   ]
  },
  {
   "cell_type": "code",
   "execution_count": 14,
   "metadata": {},
   "outputs": [
    {
     "data": {
      "text/plain": [
       "170.42392323303363"
      ]
     },
     "execution_count": 14,
     "metadata": {},
     "output_type": "execute_result"
    }
   ],
   "source": [
    "thresh = (std1 * mean2 + std2 * mean1) / (std1 + std2)\n",
    "thresh"
   ]
  },
  {
   "cell_type": "markdown",
   "metadata": {},
   "source": [
    "In this example, there's not much difference between the two thresholds.\n",
    "Now you can count how many men are below the threshold:"
   ]
  },
  {
   "cell_type": "code",
   "execution_count": 15,
   "metadata": {},
   "outputs": [
    {
     "data": {
      "text/plain": [
       "154"
      ]
     },
     "execution_count": 15,
     "metadata": {},
     "output_type": "execute_result"
    }
   ],
   "source": [
    "male_below_thresh = sum(male_sample < thresh)\n",
    "male_below_thresh"
   ]
  },
  {
   "cell_type": "markdown",
   "metadata": {},
   "source": [
    "Similarly, you can calculate how many women are above the calculated threshold"
   ]
  },
  {
   "cell_type": "code",
   "execution_count": 16,
   "metadata": {},
   "outputs": [
    {
     "data": {
      "text/plain": [
       "152"
      ]
     },
     "execution_count": 16,
     "metadata": {},
     "output_type": "execute_result"
    }
   ],
   "source": [
    "female_above_thresh = sum(female_sample > thresh)\n",
    "female_above_thresh"
   ]
  },
  {
   "cell_type": "markdown",
   "metadata": {},
   "source": [
    "Now, take a look at what these thresholds look like when laid over the Probability Density Functions of both samples' distributions."
   ]
  },
  {
   "cell_type": "code",
   "execution_count": 11,
   "metadata": {},
   "outputs": [
    {
     "ename": "NameError",
     "evalue": "name 'thresh' is not defined",
     "output_type": "error",
     "traceback": [
      "\u001b[0;31m\u001b[0m",
      "\u001b[0;31mNameError\u001b[0mTraceback (most recent call last)",
      "\u001b[0;32m<ipython-input-11-87d87a37e31c>\u001b[0m in \u001b[0;36m<module>\u001b[0;34m\u001b[0m\n\u001b[1;32m      6\u001b[0m \u001b[0mf_xs\u001b[0m\u001b[0;34m,\u001b[0m \u001b[0mfemale_ys\u001b[0m \u001b[0;34m=\u001b[0m \u001b[0mevaluate_PDF\u001b[0m\u001b[0;34m(\u001b[0m\u001b[0mfemale_height\u001b[0m\u001b[0;34m)\u001b[0m\u001b[0;34m\u001b[0m\u001b[0;34m\u001b[0m\u001b[0m\n\u001b[1;32m      7\u001b[0m \u001b[0mplt\u001b[0m\u001b[0;34m.\u001b[0m\u001b[0mplot\u001b[0m\u001b[0;34m(\u001b[0m\u001b[0mf_xs\u001b[0m\u001b[0;34m,\u001b[0m \u001b[0mfemale_ys\u001b[0m\u001b[0;34m,\u001b[0m \u001b[0mlabel\u001b[0m\u001b[0;34m=\u001b[0m\u001b[0;34m'female'\u001b[0m\u001b[0;34m,\u001b[0m \u001b[0mlinewidth\u001b[0m\u001b[0;34m=\u001b[0m\u001b[0;36m4\u001b[0m\u001b[0;34m,\u001b[0m \u001b[0mcolor\u001b[0m\u001b[0;34m=\u001b[0m\u001b[0;34m'#fdc086'\u001b[0m\u001b[0;34m)\u001b[0m\u001b[0;34m\u001b[0m\u001b[0;34m\u001b[0m\u001b[0m\n\u001b[0;32m----> 8\u001b[0;31m \u001b[0mplt\u001b[0m\u001b[0;34m.\u001b[0m\u001b[0mvlines\u001b[0m\u001b[0;34m(\u001b[0m\u001b[0mthresh\u001b[0m\u001b[0;34m,\u001b[0m\u001b[0mymin\u001b[0m\u001b[0;34m=\u001b[0m\u001b[0;36m0\u001b[0m\u001b[0;34m,\u001b[0m\u001b[0mymax\u001b[0m\u001b[0;34m=\u001b[0m\u001b[0;36m0.06\u001b[0m\u001b[0;34m)\u001b[0m\u001b[0;34m\u001b[0m\u001b[0;34m\u001b[0m\u001b[0m\n\u001b[0m\u001b[1;32m      9\u001b[0m \u001b[0mplt\u001b[0m\u001b[0;34m.\u001b[0m\u001b[0mfill_betweenx\u001b[0m\u001b[0;34m(\u001b[0m\u001b[0mmale_ys\u001b[0m\u001b[0;34m,\u001b[0m\u001b[0mx1\u001b[0m \u001b[0;34m=\u001b[0m \u001b[0mm_xs\u001b[0m\u001b[0;34m,\u001b[0m\u001b[0mx2\u001b[0m\u001b[0;34m=\u001b[0m\u001b[0mthresh\u001b[0m\u001b[0;34m,\u001b[0m \u001b[0mwhere\u001b[0m \u001b[0;34m=\u001b[0m \u001b[0mm_xs\u001b[0m \u001b[0;34m<\u001b[0m \u001b[0mthresh\u001b[0m\u001b[0;34m,\u001b[0m\u001b[0mcolor\u001b[0m\u001b[0;34m=\u001b[0m\u001b[0;34m'b'\u001b[0m\u001b[0;34m)\u001b[0m\u001b[0;34m\u001b[0m\u001b[0;34m\u001b[0m\u001b[0m\n\u001b[1;32m     10\u001b[0m \u001b[0mplt\u001b[0m\u001b[0;34m.\u001b[0m\u001b[0mfill_betweenx\u001b[0m\u001b[0;34m(\u001b[0m\u001b[0mfemale_ys\u001b[0m\u001b[0;34m,\u001b[0m\u001b[0mx1\u001b[0m\u001b[0;34m=\u001b[0m\u001b[0mf_xs\u001b[0m\u001b[0;34m,\u001b[0m\u001b[0mx2\u001b[0m\u001b[0;34m=\u001b[0m\u001b[0mthresh\u001b[0m\u001b[0;34m,\u001b[0m \u001b[0mwhere\u001b[0m \u001b[0;34m=\u001b[0m \u001b[0mf_xs\u001b[0m \u001b[0;34m>\u001b[0m \u001b[0mthresh\u001b[0m\u001b[0;34m,\u001b[0m\u001b[0mcolor\u001b[0m\u001b[0;34m=\u001b[0m\u001b[0;34m'b'\u001b[0m\u001b[0;34m)\u001b[0m\u001b[0;34m\u001b[0m\u001b[0;34m\u001b[0m\u001b[0m\n",
      "\u001b[0;31mNameError\u001b[0m: name 'thresh' is not defined"
     ]
    },
    {
     "data": {
      "image/png": "[encoded data removed]",
      "text/plain": [
       "<Figure size 432x288 with 1 Axes>"
      ]
     },
     "metadata": {
      "needs_background": "light"
     },
     "output_type": "display_data"
    }
   ],
   "source": [
    "# Male height\n",
    "m_xs, male_ys = evaluate_PDF(male_height)\n",
    "plt.plot(m_xs, male_ys, label='male', linewidth=4, color='#beaed4') \n",
    "\n",
    "#Female height \n",
    "f_xs, female_ys = evaluate_PDF(female_height)\n",
    "plt.plot(f_xs, female_ys, label='female', linewidth=4, color='#fdc086')\n",
    "plt.vlines(thresh,ymin=0,ymax=0.06)\n",
    "plt.fill_betweenx(male_ys,x1 = m_xs,x2=thresh, where = m_xs < thresh,color='b')\n",
    "plt.fill_betweenx(female_ys,x1=f_xs,x2=thresh, where = f_xs > thresh,color='b')\n",
    "plt.xlabel('height (cm)')"
   ]
  },
  {
   "cell_type": "markdown",
   "metadata": {},
   "source": [
    "The \"overlap\" (shaded region above) is the total **AUC (Area Under the Curves)**. You can use this to identify the samples that end up on the wrong side of the threshold. You can calculate the amount of overlap as shown below. "
   ]
  },
  {
   "cell_type": "code",
   "execution_count": 18,
   "metadata": {},
   "outputs": [
    {
     "data": {
      "text/plain": [
       "0.306"
      ]
     },
     "execution_count": 18,
     "metadata": {},
     "output_type": "execute_result"
    }
   ],
   "source": [
    "# Calculate the overlap \n",
    "overlap = male_below_thresh / len(male_sample) + female_above_thresh / len(female_sample)\n",
    "overlap"
   ]
  },
  {
   "cell_type": "markdown",
   "metadata": {},
   "source": [
    "Or in more practical terms, you might report the fraction of people who would be misclassified if you tried to use height to guess sex:"
   ]
  },
  {
   "cell_type": "code",
   "execution_count": 19,
   "metadata": {},
   "outputs": [
    {
     "data": {
      "text/plain": [
       "0.153"
      ]
     },
     "execution_count": 19,
     "metadata": {},
     "output_type": "execute_result"
    }
   ],
   "source": [
    "misclassification_rate = overlap / 2\n",
    "misclassification_rate"
   ]
  },
  {
   "cell_type": "markdown",
   "metadata": {},
   "source": [
    "## Probability of superiority (Non-parametric)\n",
    "\n",
    "Another \"non-parametric\" way to quantify the difference between distributions is what's called **\"probability of superiority\"**, which is the probability that *\"a randomly-chosen man is taller than a randomly-chosen woman\"*, which makes perfect sense.\n",
    "\n",
    "> Question: If you chose a male and a female sample at random, what is the probability that males are taller than females? "
   ]
  },
  {
   "cell_type": "code",
   "execution_count": 20,
   "metadata": {},
   "outputs": [
    {
     "data": {
      "text/plain": [
       "0.94"
      ]
     },
     "execution_count": 20,
     "metadata": {},
     "output_type": "execute_result"
    }
   ],
   "source": [
    "# Python zip() The zip() function take iterables (can be zero or more), \n",
    "# makes iterator that aggregates elements based on the iterables passed, \n",
    "# and returns an iterator of tuples.\n",
    "\n",
    "sum(x > y for x, y in zip(male_sample, female_sample)) / len(male_sample)"
   ]
  },
  {
   "cell_type": "markdown",
   "metadata": {},
   "source": [
    "> Question: If you chose a female and a male sample at random, what is the probability that females are smaller than males in height? Is it different/same as above?"
   ]
  },
  {
   "cell_type": "code",
   "execution_count": 21,
   "metadata": {},
   "outputs": [
    {
     "data": {
      "text/plain": [
       "0.94"
      ]
     },
     "execution_count": 21,
     "metadata": {},
     "output_type": "execute_result"
    }
   ],
   "source": [
    "sum(x < y for x, y in zip(female_sample, male_sample)) / len(female_sample)"
   ]
  },
  {
   "cell_type": "markdown",
   "metadata": {},
   "source": [
    "Overlap (or misclassification rate) as shown above and \"probability of superiority\" have two good properties:\n",
    "\n",
    "* As probabilities, they don't depend on units of measure, so they are comparable between studies.\n",
    "\n",
    "* They are expressed in operational terms, so a reader has a sense of what practical effect the difference makes.\n",
    "\n",
    "There is one other common way to express the difference between distributions (i.e. the difference in means) standardizing by dividing by the standard deviation."
   ]
  },
  {
   "cell_type": "markdown",
   "metadata": {},
   "source": [
    "Here's a function that encapsulates the code you have already seen for computing overlap and probability of superiority."
   ]
  },
  {
   "cell_type": "code",
   "execution_count": 22,
   "metadata": {},
   "outputs": [],
   "source": [
    "def overlap_superiority(group1, group2, n=1000):\n",
    "    \"\"\"Estimates overlap and superiority based on a sample.\n",
    "    \n",
    "    group1: scipy.stats rv object\n",
    "    group2: scipy.stats rv object\n",
    "    n: sample size\n",
    "    \"\"\"\n",
    "\n",
    "    # Get a sample of size n from both groups\n",
    "    group1_sample = group1.rvs(n)\n",
    "    group2_sample = group2.rvs(n)\n",
    "    \n",
    "    # Identify the threshold between samples\n",
    "    thresh = (group1.mean() + group2.mean()) / 2\n",
    "    print(thresh)\n",
    "    \n",
    "    # Calculate no. of values above and below for group 1 and group 2 respectively\n",
    "    above = sum(group1_sample < thresh)\n",
    "    below = sum(group2_sample > thresh)\n",
    "    \n",
    "    # Calculate the overlap\n",
    "    overlap = (above + below) / n\n",
    "    \n",
    "    # Calculate probability of superiority\n",
    "    superiority = sum(x > y for x, y in zip(group1_sample, group2_sample)) / n\n",
    "\n",
    "    return overlap, superiority"
   ]
  },
  {
   "cell_type": "code",
   "execution_count": 23,
   "metadata": {},
   "outputs": [
    {
     "name": "stdout",
     "output_type": "stream",
     "text": [
      "170.5\n"
     ]
    },
    {
     "data": {
      "text/plain": [
       "(0.336, 0.94)"
      ]
     },
     "execution_count": 23,
     "metadata": {},
     "output_type": "execute_result"
    }
   ],
   "source": [
    "\n",
    "overlap_superiority(male_height, female_height, n=1000)"
   ]
  },
  {
   "cell_type": "markdown",
   "metadata": {},
   "source": [
    "## Standardized effect size\n",
    "\n",
    "When analysts generally talk about effect sizes, they refer to some method of calculating a *standardized* effect size. The standardized effect size statistic would divide effect size by some standardizer i.e. standard deviation:\n",
    "\n",
    ">**Effect Size / Standardiser**\n",
    "\n",
    "When interpreting, this statistic would be in terms of standard deviations e.g. The mean height of males in USA is 1.4 standard deviations higher than mean female heights etc. The effect size measure you will be learning about in this lesson is Cohen’s d. This measure expresses the size of an effect in terms of the number of standard deviations, similar to a $z$-score in statistics."
   ]
  },
  {
   "cell_type": "code",
   "execution_count": 24,
   "metadata": {},
   "outputs": [
    {
     "data": {
      "text/plain": [
       "'Cohen’s d is similar to the unpaired t test t value. It relies on Standard Deviations instead of Standard Errors'"
      ]
     },
     "execution_count": 24,
     "metadata": {},
     "output_type": "execute_result"
    }
   ],
   "source": [
    "## not covered yet\n",
    "\"Cohen’s d is similar to the unpaired t test t value. It relies on Standard Deviations instead of Standard Errors\"\n"
   ]
  },
  {
   "cell_type": "markdown",
   "metadata": {},
   "source": [
    "## Cohen's d\n",
    "\n",
    "Cohen’s d is one of the most common ways to measure effect size.  As an effect size, Cohen's d is typically used to represent the magnitude of differences between two (or more) groups on a given variable, with larger values representing a greater differentiation between the two groups on that variable. \n",
    "\n",
    "The basic formula to calculate Cohen’s $d$ is:\n",
    "\n",
    "> **$d$ = effect size (difference of means) / pooled standard deviation**\n",
    "\n",
    "The denominator is the **standardiser**, and it is important to select the most appropriate one for a given dataset. The pooled standard deviation is the average spread of all data points around their group mean (not the overall mean). "
   ]
  },
  {
   "cell_type": "code",
   "execution_count": 25,
   "metadata": {},
   "outputs": [],
   "source": [
    "def Cohen_d(group1, group2):\n",
    "\n",
    "    # Compute Cohen's d.\n",
    "\n",
    "    # group1: Series or NumPy array\n",
    "    # group2: Series or NumPy array\n",
    "\n",
    "    # returns a floating point number \n",
    "\n",
    "    diff = group1.mean() - group2.mean()\n",
    "\n",
    "    n1, n2 = len(group1), len(group2)\n",
    "    var1 = group1.var()\n",
    "    var2 = group2.var()\n",
    "\n",
    "    # Calculate the pooled threshold as shown earlier\n",
    "    pooled_var = (n1 * var1 + n2 * var2) / (n1 + n2)\n",
    "    \n",
    "    # Calculate Cohen's d statistic\n",
    "    d = diff / np.sqrt(pooled_var)\n",
    "    \n",
    "    return d"
   ]
  },
  {
   "cell_type": "markdown",
   "metadata": {},
   "source": [
    "Computing the denominator is a little complicated; in fact, people have proposed several ways to do it.  [Here](https://scientificallysound.org/2017/07/13/cohens-d-standardiser/) is a brief description of using standardizers while calculating Cohen's $d$ for standardized effect sizes.  \n",
    "\n",
    "This implementation uses the \"pooled standard deviation,\" which is a weighted average of the standard deviations of the two groups.\n",
    "\n",
    "And here's the result for the difference in height between men and women."
   ]
  },
  {
   "cell_type": "code",
   "execution_count": 26,
   "metadata": {},
   "outputs": [
    {
     "data": {
      "text/plain": [
       "2.0669285200851877"
      ]
     },
     "execution_count": 26,
     "metadata": {},
     "output_type": "execute_result"
    }
   ],
   "source": [
    "Cohen_d(male_sample, female_sample)"
   ]
  },
  {
   "cell_type": "markdown",
   "metadata": {},
   "source": [
    "## Interpreting $d$\n",
    "Most people don't have a good sense of how big $d=2.0$ is. If you are having trouble visualizing what the result of Cohen’s D means, use these general “rule of thumb” guidelines (which Cohen said should be used cautiously):\n",
    "\n",
    ">**Small effect = 0.2**\n",
    "\n",
    ">**Medium Effect = 0.5**\n",
    "\n",
    ">**Large Effect = 0.8**\n",
    "\n",
    "Here is an excellent online visualization tool developed by [Kristoffer Magnusson](https://rpsychologist.com/d3/cohend/) to help interpret the results of cohen's $d$ statistic. \n",
    "\n",
    "The following function that takes Cohen's $d$, plots normal distributions with the given effect size, and prints their overlap and superiority."
   ]
  },
  {
   "cell_type": "code",
   "execution_count": 27,
   "metadata": {},
   "outputs": [],
   "source": [
    "def plot_pdfs(cohen_d=2):\n",
    "    \"\"\"Plot PDFs for distributions that differ by some number of stds.\n",
    "    \n",
    "    cohen_d: number of standard deviations between the means\n",
    "    \"\"\"\n",
    "    group1 = scipy.stats.norm(0, 1)\n",
    "    group2 = scipy.stats.norm(cohen_d, 1)\n",
    "    xs, ys = evaluate_PDF(group1)\n",
    "    plt.fill_between(xs, ys, label='Group1', color='#ff2289', alpha=0.7)\n",
    "\n",
    "    xs, ys = evaluate_PDF(group2)\n",
    "    plt.fill_between(xs, ys, label='Group2', color='#376cb0', alpha=0.7)\n",
    "    \n",
    "    o, s = overlap_superiority(group1, group2)\n",
    "    print('overlap', o)\n",
    "    print('superiority', s)"
   ]
  },
  {
   "cell_type": "markdown",
   "metadata": {},
   "source": [
    "Here's an example that demonstrates the function:"
   ]
  },
  {
   "cell_type": "code",
   "execution_count": 28,
   "metadata": {},
   "outputs": [
    {
     "name": "stdout",
     "output_type": "stream",
     "text": [
      "2.5\n",
      "overlap 1.992\n",
      "superiority 0.0\n"
     ]
    },
    {
     "data": {
      "image/png": "[encoded data removed]",
      "text/plain": [
       "<Figure size 432x288 with 1 Axes>"
      ]
     },
     "metadata": {},
     "output_type": "display_data"
    }
   ],
   "source": [
    "plot_pdfs(5)\n",
    "# Try changing the d value and observe the effect on the outcome below"
   ]
  },
  {
   "cell_type": "markdown",
   "metadata": {},
   "source": [
    "Cohen's $d$ has a few nice properties:\n",
    "\n",
    "* Because mean and standard deviation have the same units, their ratio is dimensionless, so you can compare $d$ across different studies.\n",
    "\n",
    "* In fields that commonly use $d$, people are calibrated to know what values should be considered big, surprising, or important.\n",
    "\n",
    "* Given $d$ (and the assumption that the distributions are normal), you can compute overlap, superiority, and related statistics."
   ]
  },
  {
   "cell_type": "markdown",
   "metadata": {},
   "source": [
    "## Summary\n",
    "\n",
    "In this lesson, you highlighted the importance of calculating and interpreting effect size in Python as a measure of observing real world differences between two groups. You learned about simple (unstandardized) effect size calculation as the difference of means, as well as the standardization of this calculation with standard deviation as a standardizer. You also learned what Cohen's d statistic is and how to use it for practical purposes. The best way to report effect size often depends on the audience, goals, and subjects of study.  There is often a tradeoff between summary statistics that have good technical properties and statistics that are meaningful to a general audience."
   ]
  }
 ],
 "metadata": {
  "celltoolbar": "Raw Cell Format",
  "kernelspec": {
   "display_name": "Python 3",
   "language": "python",
   "name": "python3"
  },
  "language_info": {
   "codemirror_mode": {
    "name": "ipython",
    "version": 3
   },
   "file_extension": ".py",
   "mimetype": "text/x-python",
   "name": "python",
   "nbconvert_exporter": "python",
   "pygments_lexer": "ipython3",
   "version": "3.6.9"
  },
  "toc": {
   "base_numbering": 1,
   "nav_menu": {},
   "number_sections": true,
   "sideBar": true,
   "skip_h1_title": false,
   "title_cell": "Table of Contents",
   "title_sidebar": "Contents",
   "toc_cell": false,
   "toc_position": {},
   "toc_section_display": true,
   "toc_window_display": false
  }
 },
 "nbformat": 4,
 "nbformat_minor": 1
}
